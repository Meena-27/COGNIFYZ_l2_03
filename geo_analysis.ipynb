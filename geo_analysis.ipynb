{
  "nbformat": 4,
  "nbformat_minor": 0,
  "metadata": {
    "colab": {
      "provenance": [],
      "authorship_tag": "ABX9TyPlZ5tvnHOhCENjfB4lQaov",
      "include_colab_link": true
    },
    "kernelspec": {
      "name": "python3",
      "display_name": "Python 3"
    },
    "language_info": {
      "name": "python"
    }
  },
  "cells": [
    {
      "cell_type": "markdown",
      "metadata": {
        "id": "view-in-github",
        "colab_type": "text"
      },
      "source": [
        "<a href=\"https://colab.research.google.com/github/Meena-27/COGNIFYZ_l2_03/blob/main/geo_analysis.ipynb\" target=\"_parent\"><img src=\"https://colab.research.google.com/assets/colab-badge.svg\" alt=\"Open In Colab\"/></a>"
      ]
    },
    {
      "cell_type": "code",
      "source": [
        "import pandas as pd\n",
        "import folium\n",
        "\n",
        "# Load the Zomato dataset\n",
        "zomato_data = pd.read_csv(\"/content/zomato_dataset.csv\")\n",
        "\n",
        "# Drop rows with missing latitude or longitude values\n",
        "zomato_data.dropna(subset=['latitude', 'longitude'], inplace=True)\n",
        "\n",
        "# Create a map centered around the mean latitude and longitude\n",
        "map_restaurants = folium.Map(location=[zomato_data['latitude'].mean(), zomato_data['longitude'].mean()], zoom_start=10)\n",
        "\n",
        "# Add markers for each restaurant\n",
        "for index, row in zomato_data.iterrows():\n",
        "    folium.Marker([row['latitude'], row['longitude']], popup=row['name']).add_to(map_restaurants)\n",
        "\n",
        "# Save the map as an HTML file\n",
        "map_restaurants.save(\"restaurant_locations_map.html\")\n"
      ],
      "metadata": {
        "id": "tN9KdewwxZKh"
      },
      "execution_count": 5,
      "outputs": []
    }
  ]
}